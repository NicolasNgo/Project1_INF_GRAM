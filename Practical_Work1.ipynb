{
  "nbformat": 4,
  "nbformat_minor": 0,
  "metadata": {
    "colab": {
      "provenance": [],
      "collapsed_sections": [
        "Vlf4bjx7lTX0",
        "20QXIu-A461X",
        "PYsMtWBvBCwq",
        "sJH3xW65Dz7q",
        "IeFP4o-5Jc5f",
        "pCONOSnTNbjd",
        "nwIB49XZYYbX",
        "wNTZz7tTk63D",
        "Frbka7AclFSJ",
        "h2A_r7b3NAMk",
        "3BuCQ6DjNgHc"
      ],
      "authorship_tag": "ABX9TyO9LyxB/otL83HGFtKq11Ao",
      "include_colab_link": true
    },
    "kernelspec": {
      "name": "python3",
      "display_name": "Python 3"
    },
    "language_info": {
      "name": "python"
    }
  },
  "cells": [
    {
      "cell_type": "markdown",
      "metadata": {
        "id": "view-in-github",
        "colab_type": "text"
      },
      "source": [
        "<a href=\"https://colab.research.google.com/github/NicolasNgo/Project1_INF_GRAM/blob/main/Practical_Work1.ipynb\" target=\"_parent\"><img src=\"https://colab.research.google.com/assets/colab-badge.svg\" alt=\"Open In Colab\"/></a>"
      ]
    },
    {
      "cell_type": "markdown",
      "source": [
        "# **Teaching Unit INF-PROF: Programming fundamentals for health data**\n",
        "Nicolas NGO, Raquel URENA\n",
        "\n",
        "## **Practical work 1 - Introduction to Python**\n",
        "### Learning objectives:\n",
        "\n",
        "  1. Manipulate different Python datatypes\n",
        "  2. Use some conditional statements \n",
        "  3. Programmation of basics functions\n",
        "  4. Use some looping structure\n",
        "\n",
        "\n"
      ],
      "metadata": {
        "id": "8pRQ1CiV3sLm"
      }
    },
    {
      "cell_type": "markdown",
      "source": [],
      "metadata": {
        "id": "M8ErGDsd5F4k"
      }
    },
    {
      "cell_type": "markdown",
      "source": [
        "# **1. Python datatypes**"
      ],
      "metadata": {
        "id": "Vlf4bjx7lTX0"
      }
    },
    {
      "cell_type": "markdown",
      "source": [
        "## **Strings**"
      ],
      "metadata": {
        "id": "9WxHge1ctgV5"
      }
    },
    {
      "cell_type": "markdown",
      "source": [
        "\n",
        "For this pratical session, we will see basic datatypes of Python and how to manipulate them. The first datatype that we will see is the Strings. \n",
        "\n",
        "#### **Strings creation**\n",
        "You can create a string by assigning to a variable any character between double quotes (\"\") or single quotes (''). \n",
        "\n",
        "```\n",
        "my_string = 'abc'\n",
        "my_string = \"abc\"\n",
        "my_string = \"I'm Nicolas Ngo\"\n",
        "```\n",
        "\n",
        "You can also create a string with the function `str()` on any character.\n",
        "\n",
        "```\n",
        "my_string = str(123)\n",
        "my_string\n",
        "```\n",
        "\n",
        "#### **Strings concatenation**\n",
        "You can merge two strings to create a single one with the '+' symbol\n",
        "\n",
        "```\n",
        "first_string = 'abc'\n",
        "second_string = 'def'\n",
        "third_string = first_string + second_string\n",
        "print(third_string)\n",
        "```\n",
        "\n",
        "#### **Strings slicing**\n",
        "You can access each element of a string with a slicing (my_string[ ]). \n",
        "\n",
        "```\n",
        "my_string = 'abc'\n",
        "my_string[0]\n",
        "```\n",
        "\n",
        "#### **Strings substitution**\n",
        "Use the print to display the value of a variable. \n",
        "\n",
        "```\n",
        "my_string = 'Marseille'\n",
        "print('The first letter of my string is %s' % my_string[0])\n",
        "my_string = 'Paris'\n",
        "print('The first letter of my string is %s' % my_string[0])\n",
        "```\n",
        "\n",
        "#### **Strings methods**\n",
        "Many methods are available for the str class. You can check them by using the dir function or search for them in the Python documentation [Python documentation](https://docs.python.org/3/library/stdtypes.html#textseq)"
      ],
      "metadata": {
        "id": "20QXIu-A461X"
      }
    },
    {
      "cell_type": "markdown",
      "source": [
        "### **Exercise 1.1 - Try to guess what these statements will do**"
      ],
      "metadata": {
        "id": "PYsMtWBvBCwq"
      }
    },
    {
      "cell_type": "code",
      "source": [
        "my_string = \"It's an introduction class\""
      ],
      "metadata": {
        "id": "zHe6gjYqA-qT"
      },
      "execution_count": null,
      "outputs": []
    },
    {
      "cell_type": "markdown",
      "source": [
        "1. ```print(my_string[4:6])```\n",
        "2. ```print(my_string[2:])```\n",
        "3. ```print(my_string[0:-5])```\n",
        "4. ```print(my_string[:])```"
      ],
      "metadata": {
        "id": "uf2Hs7HqBUyi"
      }
    },
    {
      "cell_type": "markdown",
      "source": [
        "\n",
        "---\n",
        "\n",
        "### **Exercise 1.2 - Text analysis**\n"
      ],
      "metadata": {
        "id": "sJH3xW65Dz7q"
      }
    },
    {
      "cell_type": "markdown",
      "source": [
        "\n",
        "Consider the following text:\n",
        "\n",
        "*Estimation of survivals distributions are commonly obtained using the Kaplan-Meier estimator and pohar-perme estimator in, respectively, the setting of overall and net survival (the survival that would be observed, in a hypothetical world, where the disease of interest would be the only possible cause of death).*\n",
        "\n",
        "1. Assign the text to a string variable. \n",
        "2. Use a method to count how many time the word 'of' is used in the text. \n",
        "3. 'pohar perme' is actually the name of a researcher, so the first letter should be a capital P. Use the capitalize and replace method to correct your string. \n"
      ],
      "metadata": {
        "id": "IXM_yeUQUZi7"
      }
    },
    {
      "cell_type": "markdown",
      "source": [
        "## **Lists**"
      ],
      "metadata": {
        "id": "1ji-itfYtlgp"
      }
    },
    {
      "cell_type": "markdown",
      "source": [
        "\n",
        "\n",
        "A list is a collection of items in Python. It can be change after it's creation (assign a new value to an element of the list). \n",
        "\n",
        "#### **List creation**\n",
        "You can create a list by using brackets ([ ]) or by using the `list()` function. \n",
        "\n",
        "``` \n",
        "my_list = [1, 2, 3]\n",
        "my_list = list('123')\n",
        "```\n",
        "\n",
        "#### **List concatenation**\n",
        "You can concatenate lists with the '+' operator or by using specific method `extend()`.  \n",
        "\n",
        "```\n",
        "first_list = list('abc')\n",
        "second_list = list('567')\n",
        "my_list.extend(second_list)\n",
        "first_list\n",
        "['a', 'b', 'c', '5', '6', '7']\n",
        "```\n",
        "\n",
        "To add a single element at the end of the list you can use the `append()` method. \n",
        "\n",
        "To add a single element at any specific position in the list you can use the `insert()` method.\n",
        "\n",
        "#### **Accessing and changing list element**\n",
        "Following the same logic of the strings slicing you can access element of the list with the '[ ]'. But with the list you can also change the value at the specific index. \n",
        "\n",
        "```\n",
        "my_list = [1, 2, 3, 4]\n",
        "my_list[0] = 'A'\n",
        "print(my_list)\n",
        "['A', 2, 3, 4]\n",
        "```\n",
        "\n",
        "#### **Removing values**\n",
        "You can use the `remove()` method to remove a specific element of the list. \n",
        "\n",
        "\n",
        "#### **List documentation**\n",
        "You can see [here](https://docs.python.org/3/tutorial/datastructures.html) the Python documentation for the list object. "
      ],
      "metadata": {
        "id": "IeFP4o-5Jc5f"
      }
    },
    {
      "cell_type": "markdown",
      "source": [
        "### **Exercise 1.3 - Sort lists**\n",
        "\n",
        "\n"
      ],
      "metadata": {
        "id": "pCONOSnTNbjd"
      }
    },
    {
      "cell_type": "markdown",
      "source": [
        "With the following list execute the these tasks:\n",
        "1. Create two lists, one for the names and one for the values.\n",
        "2. Sort all values by decreasing order and display the 3 smallest values.\n",
        "3. Display the mean value of the list of values.\n",
        "4. Sort all names by alphabetical order. Display the first 3 names.\n",
        "5. Replace the second name of the sorted list by 'Djibril'.\n",
        "\n",
        "```\n",
        "my_list = ['Jean', 5, 'Matthieu', 'Ismael', 3, 7, 1, 'Jose', 15, 9, 'Zacchary', 2,'Gabriel', 'Aristide']\n",
        "\n",
        "```"
      ],
      "metadata": {
        "id": "-w0aJ5XjUfpr"
      }
    },
    {
      "cell_type": "markdown",
      "source": [
        "## **Dictionary**"
      ],
      "metadata": {
        "id": "autwA1G3uEmi"
      }
    },
    {
      "cell_type": "markdown",
      "source": [
        "\n",
        "\n",
        "Dictionary is a Python collection type object. In the dictionaries the values are being indexed by specific unique values which are called *keys*. \n",
        "\n",
        "#### **Creation of dictionary**\n",
        "There are many ways to create a dictionary. The first one is to use the curly bracket ('{') with separated by commas the couples `key:value`.\n",
        "\n",
        "```\n",
        "my_dict = {'Name': ['Paul', 'Marie', 'Jean'], \n",
        "            'Age': [26, 35],\n",
        "            'City': ['Marseille', 'Paris', 'Lyon', 'Lamentin']}\n",
        "```\n",
        "\n",
        "Or you can use the constructor `dict()` \n",
        "\n",
        "```\n",
        "my_dict = dict({'5': ['cinq', 'V', 'five']})\n",
        "``` \n",
        "\n",
        "#### **Accessing a value**\n",
        "In a dictionary you can acces a value by using the specific key that is associated to this value (just like an index in the list).\n",
        "\n",
        "```\n",
        "my_dict = {'Name': 'Nora', 'Age':25}\n",
        "my_dict['Name']\n",
        "'Nora'\n",
        "```\n",
        "\n",
        "#### **Adding a new key:value**\n",
        "You can add a key:value pair to your dictionary \n",
        "\n",
        "```\n",
        "my_dict['City'] = 'Marseille'\n",
        "my_dict\n",
        "```\n",
        "\n",
        "#### **Modify key:value pair**\n",
        "You can modify an already existing value associated to a key.\n",
        "\n",
        "```\n",
        "my_dict['Age'] = 26\n",
        "my_dict\n",
        "```\n",
        "\n",
        "#### **Delete a key:value pair**\n",
        "You can delete a key:value pair with the keyword `del`\n",
        "\n",
        "```\n",
        "del my_dict['City']\n",
        "my_dict\n",
        "```\n",
        "\n",
        "#### **Some methods**\n",
        "To access all the keys of a dict `my_dict.keys()`. The method `get()` returns the value of a specified key. "
      ],
      "metadata": {
        "id": "nwIB49XZYYbX"
      }
    },
    {
      "cell_type": "markdown",
      "source": [
        "### **Exercise 1.4 - Manipulation of a dictionary**"
      ],
      "metadata": {
        "id": "biotaATAlMg5"
      }
    },
    {
      "cell_type": "markdown",
      "source": [
        "We want to store into a dictionary the names of the patients that are assign to a treatment and control group. \n",
        "\n",
        "Control: Jean, Marie, Paul, Joseph, Iyeka\n",
        "\n",
        "Treatment: Mike, Alain, Adiba\n",
        "\n",
        "1. Create a dictionary with two keys (one for each group) and store the names of the patients as values of the corresponding keys. \n",
        "2. Which group has more patients (use Python functions to answer)\n",
        "3. A new patient has been assign to the treatment group. Add her name to the list (Dorine)\n",
        "4. We want to add a new treatment group, change the 'Treatment' key name to 'Treatment A' and add the new key 'Treatment B' with the names:\n",
        "  Aaren, Loris, Celio, Aymerik, Montout\n",
        "5. Give the total number of patients. \n",
        "\n",
        "In the last task, you can use a for loops.\n",
        "\n",
        "\n",
        "\n",
        "\n"
      ],
      "metadata": {
        "id": "2g9yBVS_XlQj"
      }
    },
    {
      "cell_type": "markdown",
      "source": [
        "# **2. Conditional statement and loops**\n",
        "\n",
        "\n"
      ],
      "metadata": {
        "id": "wNTZz7tTk63D"
      }
    },
    {
      "cell_type": "markdown",
      "source": [
        "### **Exercise 2.1 - Categorisation**\n",
        "\n"
      ],
      "metadata": {
        "id": "FU90AbVkIZ3o"
      }
    },
    {
      "cell_type": "markdown",
      "source": [
        "You received a list of age values, you want to discretize them into 15 years categories, write a program that will do so. \n",
        "The result should be a list of string in the same order as the age list but with the categorie as values. Let's assume that the first category will start at 0 and goes to 15 (not included) and will be named `'[0;15)'`. The second will be `'[15;30)'` until the last one `[75;90]`.\n",
        "```\n",
        "ages = [8, 15, 12, 23, 69, 87, 45, 52, 36, 48, 20, 18, 19, 35, 22, 74, 21, 63, 88, 14, 25, 42, 27, 58]\n",
        "```"
      ],
      "metadata": {
        "id": "WnEkjzOYJ8sT"
      }
    },
    {
      "cell_type": "markdown",
      "source": [
        "\n",
        "\n",
        "---\n",
        "\n",
        "\n",
        "### **Exercise 2.2 - Frequency dictionary**\n"
      ],
      "metadata": {
        "id": "pp4ZmxcZLy7m"
      }
    },
    {
      "cell_type": "markdown",
      "source": [
        "\n",
        "From the previous exercise, use a for loop to store in a dictionary how many times each category is present in the discretised version of ages. \n",
        "Sort the dictionary with regard to the frequency in decreasing order.\n",
        "Which category has the maximum number of observations ? \n",
        "Which category has the minimum number of observations ? "
      ],
      "metadata": {
        "id": "6ggm_PjdMQ6O"
      }
    },
    {
      "cell_type": "markdown",
      "source": [
        "---\n",
        "### **Exercise 2.3 - Estimation of $\\pi $**"
      ],
      "metadata": {
        "id": "PUjFBWLTMWO2"
      }
    },
    {
      "cell_type": "markdown",
      "source": [
        "To approximate the value of $\\pi$ many methods are available. One of them was found by the indian mathematician Madhava de Sangamagrama around 1400. He used an infinite serie to compute an approximation of $\\pi$. The formula that he used is the following:\n",
        "\n",
        "$\n",
        "\\tilde{\\pi}_{Madhava} = \\sqrt{12}\\sum_{k = 0}^{\\infty}{\\frac{(-1)^k}{(3k+1)3^k}}\n",
        "$\n",
        "\n",
        "Use the above formula to compute an approximation of $\\pi$ with a while loop. The desired precision is at least 15 decimals of $\\pi$.\n",
        "\n",
        "*Hint*: You can use the following command to have a reference value of $\\pi$\n",
        "\n",
        "\n",
        "\n",
        "\n",
        "```\n",
        "import math\n",
        "math.pi\n",
        "```\n",
        "\n",
        "\n",
        "\n",
        "\n"
      ],
      "metadata": {
        "id": "Y02dL_3rX4HT"
      }
    },
    {
      "cell_type": "markdown",
      "source": [
        "# **3. Functions**\n"
      ],
      "metadata": {
        "id": "Frbka7AclFSJ"
      }
    },
    {
      "cell_type": "markdown",
      "source": [
        "### **Exercise 3.1 - Temperature conversion**\n",
        "\n"
      ],
      "metadata": {
        "id": "ZetG3RqfuQo5"
      }
    },
    {
      "cell_type": "markdown",
      "source": [
        "Write a Python function to convert temperature units from Celius units (°C) to Fahrenheit (°F) or from Celius units to Fahrenheit. For this exercise you have to write a single function that is able to do both conversion. \n",
        "\n",
        "*Note*: The formula for the conversion of Fahrenheit temperature to Celsius units is:\n",
        "\n",
        "$$C = \\frac{5}{9} \\times (F - 32)$$\n",
        "\n",
        "And the formula for the conversion of Celsius temperature unit to Fahrenheit is:\n",
        "\n",
        "$$F = \\frac{9}{5} \\times C + 32$$"
      ],
      "metadata": {
        "id": "-6KGX-3hzZ8E"
      }
    },
    {
      "cell_type": "markdown",
      "source": [
        "### **Exercise 3.2 - Utility function**\n"
      ],
      "metadata": {
        "id": "9v8mnERYI1aZ"
      }
    },
    {
      "cell_type": "markdown",
      "source": [
        "Write a Python function that take a string as an argument and returns the list of all unique elements of the string. \n",
        "\n",
        "\n",
        "\n",
        "```\n",
        "my_string = 'Nullam tempus scelerisque purus, sed mattis elit condimentum nec. Cras vel elit sed mi placerat pharetra eget vel odio. Pellentesque habitant morbi tristique senectus et netus et malesuada fames ac turpis egestas. Lorem ipsum dolor sit amet, consectetur adipiscing elit. Integer ultricies malesuada quam. Cras vel elit sed mi placerat pharetra eget vel odio. Duis ac nulla varius diam ultrices rutrum. Cras erat dui, finibus vel lectus ac, pharetra dictum odio. Pellentesque habitant morbi tristique senectus et netus et malesuada fames ac turpis egestas. Nullam tempus scelerisque purus, sed mattis elit condimentum nec. Duis ac nulla varius diam ultrices rutrum. Etiam risus sapien, auctor eu volutpat sit amet, porta in nunc. Quisque vitae varius ex, eu volutpat orci. Lorem ipsum dolor sit amet, consectetur adipiscing elit. Quisque vitae varius ex, eu volutpat orci. Proin ipsum purus, laoreet quis dictum a, laoreet sed ligula. Pellentesque habitant morbi tristique senectus et netus et malesuada fames ac turpis egestas. Quisque vitae varius ex, eu volutpat orci.'\n",
        "\n",
        "```\n",
        "\n"
      ],
      "metadata": {
        "id": "RrkaOZWuJ09i"
      }
    },
    {
      "cell_type": "markdown",
      "source": [
        "# **4. Bonus Comprehension**"
      ],
      "metadata": {
        "id": "h2A_r7b3NAMk"
      }
    },
    {
      "cell_type": "markdown",
      "source": [
        "There's a way to create list or dictionary with a for loops in a single lines. It is by embedding the for loops inside brackets for instance (to create a list).\n",
        "For instance to create a list of elements from 0 to 10"
      ],
      "metadata": {
        "id": "ry-zu4xnNNfc"
      }
    },
    {
      "cell_type": "code",
      "source": [
        "my_list = [i for i in range(0, 11)]\n",
        "my_list"
      ],
      "metadata": {
        "colab": {
          "base_uri": "https://localhost:8080/"
        },
        "id": "PjacIElmNwOE",
        "outputId": "95d6a52d-60a5-46cb-923b-0c5a5ba63a7a"
      },
      "execution_count": 2,
      "outputs": [
        {
          "output_type": "execute_result",
          "data": {
            "text/plain": [
              "[0, 1, 2, 3, 4, 5, 6, 7, 8, 9, 10]"
            ]
          },
          "metadata": {},
          "execution_count": 2
        }
      ]
    },
    {
      "cell_type": "markdown",
      "source": [
        "You can have more complexe comprehension. For instance, you can return the result of some operation into the list."
      ],
      "metadata": {
        "id": "qU8fX_IDN6Eu"
      }
    },
    {
      "cell_type": "code",
      "source": [
        "my_list = [i**2 for i in range(0, 11)]\n",
        "my_list"
      ],
      "metadata": {
        "colab": {
          "base_uri": "https://localhost:8080/"
        },
        "id": "cHbuT2FROKP3",
        "outputId": "bb6adbc0-1745-4c35-afcc-8435b08bcc3f"
      },
      "execution_count": 3,
      "outputs": [
        {
          "output_type": "execute_result",
          "data": {
            "text/plain": [
              "[0, 1, 4, 9, 16, 25, 36, 49, 64, 81, 100]"
            ]
          },
          "metadata": {},
          "execution_count": 3
        }
      ]
    },
    {
      "cell_type": "markdown",
      "source": [
        "Or even have some conditions."
      ],
      "metadata": {
        "id": "UMaKzgKVOPcF"
      }
    },
    {
      "cell_type": "code",
      "source": [
        "my_list = [i for i in range(0, 11) if i < 5]\n",
        "my_list"
      ],
      "metadata": {
        "colab": {
          "base_uri": "https://localhost:8080/"
        },
        "id": "tZxLKIwcOTUl",
        "outputId": "ae97f056-8feb-4275-e7c7-2ab9be6e25a7"
      },
      "execution_count": 5,
      "outputs": [
        {
          "output_type": "execute_result",
          "data": {
            "text/plain": [
              "[0, 1, 2, 3, 4]"
            ]
          },
          "metadata": {},
          "execution_count": 5
        }
      ]
    },
    {
      "cell_type": "markdown",
      "source": [
        "## **Exercise 4.1 - List comprehension**"
      ],
      "metadata": {
        "id": "3BuCQ6DjNgHc"
      }
    },
    {
      "cell_type": "markdown",
      "source": [
        "Given the following string, write a single line of code that returns a list with the length of every word in the string. \n",
        "*Hint*: The string method `split()` can be used in this exercise.\n",
        "\n",
        "**Sentence:** \"All animals are equal but some animals are more equal than others.\" (Quotes from Animal Farm - ORWELL, GEORGE).\n",
        "\n"
      ],
      "metadata": {
        "id": "1-_cnNAyPZyP"
      }
    },
    {
      "cell_type": "markdown",
      "source": [],
      "metadata": {
        "id": "ZkZg-advT-Yt"
      }
    }
  ]
}